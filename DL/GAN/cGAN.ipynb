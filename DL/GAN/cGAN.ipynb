{
 "cells": [
  {
   "cell_type": "markdown",
   "metadata": {},
   "source": [
    "### cGAN"
   ]
  },
  {
   "cell_type": "code",
   "execution_count": 1,
   "metadata": {},
   "outputs": [],
   "source": [
    "import torch\n",
    "import torch.nn as nn\n",
    "import torch.nn.functional as F\n",
    "from torchvision import datasets\n",
    "import torchvision.transforms as transforms\n",
    "from torchvision.utils import save_image\n",
    "from torch.utils.data import DataLoader\n",
    "import argparse\n",
    "import os\n",
    "import numpy as np\n",
    "import math"
   ]
  },
  {
   "cell_type": "code",
   "execution_count": 2,
   "metadata": {},
   "outputs": [
    {
     "name": "stdout",
     "output_type": "stream",
     "text": [
      "Namespace(n_epoch=200, batch_size=50, lr=0.0001, b1=0.5, b2=0.999, n_cpu=8, latent_dim=100, img_size=28, channels=1, sample_interval=400, condition_size=10)\n"
     ]
    }
   ],
   "source": [
    "seed = 0\n",
    "torch_seed = torch.manual_seed(seed)\n",
    "\n",
    "parser =  argparse.ArgumentParser()\n",
    "parser.add_argument('--n_epoch', type=int, default=200)\n",
    "parser.add_argument('--batch_size', type=int, default=50)\n",
    "parser.add_argument('--lr', type=float, default=0.0001)\n",
    "parser.add_argument('--b1', type=float, default=0.5)\n",
    "parser.add_argument('--b2', type=float, default=0.999)\n",
    "parser.add_argument('--n_cpu', type=int, default=8)\n",
    "parser.add_argument('--latent_dim', type=int, default=100)\n",
    "parser.add_argument('--img_size', type=int, default=28)\n",
    "parser.add_argument('--channels', type=int, default=1)\n",
    "parser.add_argument('--sample_interval', type=int, default=1000)\n",
    "parser.add_argument('--condition_size', type=int, default=10)\n",
    "args = parser.parse_args('')\n",
    "\n",
    "print(args)\n"
   ]
  },
  {
   "cell_type": "code",
   "execution_count": 3,
   "metadata": {},
   "outputs": [],
   "source": [
    "img_shape = (args.channels, args.img_size, args.img_size)\n",
    "cuda = True if torch.cuda.is_available() else False"
   ]
  },
  {
   "cell_type": "code",
   "execution_count": 4,
   "metadata": {},
   "outputs": [],
   "source": [
    "class Generator(nn.Module):\n",
    "  def __init__(self):\n",
    "    super(Generator, self).__init__()\n",
    "\n",
    "    def block(input_dim, output_dim, normalize=True):\n",
    "      layers = [nn.Linear(input_dim, output_dim)]\n",
    "      if normalize:\n",
    "        layers.append(nn.BatchNorm1d(output_dim, 0.8))\n",
    "      layers.append(nn.LeakyReLU(0.2, inplace=True))\n",
    "      return layers\n",
    "    \n",
    "    self.model = nn.Sequential(\n",
    "      *block(args.latent_dim + args.condition_size, 128, normalize=False),\n",
    "      *block(128, 256),\n",
    "      *block(256, 512),\n",
    "      *block(512, 1024),\n",
    "      nn.Linear(1024, int(np.prod(img_shape))),\n",
    "      nn.Tanh()\n",
    "    )\n",
    "  \n",
    "  def forward(self, noise, labels):\n",
    "    gen_input = torch.cat((self.))\n",
    "    img = self.model(z)\n",
    "    img = img.view(img.size(0), *img_shape)\n",
    "    return img\n"
   ]
  },
  {
   "cell_type": "code",
   "execution_count": 5,
   "metadata": {},
   "outputs": [],
   "source": [
    "class Discriminator(nn.Module):\n",
    "  def __init__(self):\n",
    "    super(Discriminator, self).__init__()\n",
    "\n",
    "    self.model = nn.Sequential(\n",
    "      nn.Linear(int(np.prod(img_shape)), 512),\n",
    "      nn.LeakyReLU(0.2, inplace=True),\n",
    "      nn.Linear(512, 256),\n",
    "      nn.LeakyReLU(0.2, inplace=True),\n",
    "      nn.Linear(256, 1),\n",
    "      nn.Sigmoid()\n",
    "    )\n",
    "  \n",
    "  def forward(self, img):\n",
    "    img_flat = img.view(img.size(0), -1)\n",
    "    validity = self.model(img_flat)\n",
    "\n",
    "    return validity"
   ]
  },
  {
   "cell_type": "code",
   "execution_count": 6,
   "metadata": {},
   "outputs": [],
   "source": [
    "# loss function\n",
    "adversarial_loss = torch.nn.BCELoss() # Binary Coss Entropy\n",
    "\n",
    "# init generator & discriminator\n",
    "generator = Generator()\n",
    "discriminator = Discriminator()\n",
    "\n",
    "if cuda:\n",
    "  generator.cuda()\n",
    "  discriminator.cuda()\n",
    "  adversarial_loss.cuda()"
   ]
  },
  {
   "cell_type": "code",
   "execution_count": 7,
   "metadata": {},
   "outputs": [],
   "source": [
    "# configure data loader\n",
    "os.makedirs('../data/mnist', exist_ok=True)\n",
    "dataloader = DataLoader(\n",
    "  datasets.MNIST(\n",
    "    '../data/mnist',\n",
    "    train=True,\n",
    "    download=True,\n",
    "    transform=transforms.Compose(\n",
    "      [transforms.Resize(args.img_size), transforms.ToTensor(), transforms.Normalize([0.5], [0.5])]\n",
    "    )\n",
    "  ),\n",
    "  batch_size=args.batch_size,\n",
    "  shuffle=True\n",
    ")"
   ]
  },
  {
   "cell_type": "code",
   "execution_count": 8,
   "metadata": {},
   "outputs": [],
   "source": [
    "# optimizer\n",
    "optimizer_G = torch.optim.Adam(generator.parameters(), lr=args.lr, betas=(args.b1, args.b2))\n",
    "optimizer_D = torch.optim.Adam(discriminator.parameters(), lr=args.lr, betas=(args.b1, args.b2))\n",
    "\n",
    "# 텐서 변환 함수\n",
    "Tensor = torch.cuda.FloatTensor if cuda else torch.FloatTensor"
   ]
  },
  {
   "cell_type": "code",
   "execution_count": 9,
   "metadata": {},
   "outputs": [],
   "source": [
    "os.makedirs(\"cGAN_img\", exist_ok=True)"
   ]
  },
  {
   "cell_type": "code",
   "execution_count": null,
   "metadata": {},
   "outputs": [],
   "source": [
    "for epoch in range(args.n_epochs):\n",
    "  for i, (imgs, labels) in enumerate(dataloader):\n",
    "\n",
    "    # Adversarial groun truths\n",
    "    # 진짜 이미지와 가짜 이미지에 대한 정답 레이블 생성\n",
    "    real = Tensor(imgs.size(0), 1).fill_(1.0)\n",
    "    fake = Tensor(imgs.size(0), 1).fill_(0.0)\n",
    "\n",
    "    # configure input\n",
    "    real_imgs = imgs.type(Tensor)\n",
    "\n",
    "    # label encoded\n",
    "    label_encoded = F.one_hot(labels, num_classes=args.condition_size)\n",
    "\n",
    "    if cuda():\n",
    "      label_encoded.cuda()\n",
    "    \n",
    "    real_concat = torch.cat((real_imgs, label_encoded), 1)\n",
    "\n",
    "    # train generator\n",
    "    optimizer_G.zero_grad()\n",
    "    \n",
    "    # noise 생성\n",
    "    z = Tensor(np.random.normal(0, 1, (imgs.shape[0], args.latent_dim)))\n",
    "\n",
    "    # generator로 이미지 생성\n",
    "    gen_imgs = generator(z)\n",
    "\n",
    "    # C(D(G(z), real))\n",
    "    g_loss = adversarial_loss(discriminator(gen_imgs), real)\n",
    "    \n",
    "    g_loss.backward()\n",
    "    optimizer_G.step()\n",
    "    \n",
    "    # train discriminator\n",
    "\n",
    "    optimizer_D.zero_grad()\n",
    "    \n",
    "    real_loss = adversarial_loss(discriminator(real_imgs), real)\n",
    "    fake_loss = adversarial_loss(discriminator(gen_imgs.detach()), fake)\n",
    "    d_loss = (real_loss + fake_loss) / 2\n",
    "\n",
    "    d_loss.backward()\n",
    "    optimizer_D.step()\n",
    "\n",
    "    batches_done = epoch * len(dataloader) + i\n",
    "    if batches_done % args.sample_interval == 0:\n",
    "      save_image(gen_imgs.data[:25], f'GAN_img/{batches_done}.png', nrow=5, normalize=True)\n",
    "      \n",
    "  print(f'[EPOCH {epoch}/{args.n_epochs}] [D loss: {d_loss.item():.2f}] [G loss: {g_loss.item():.2f}]')"
   ]
  },
  {
   "cell_type": "code",
   "execution_count": 44,
   "metadata": {},
   "outputs": [
    {
     "data": {
      "text/plain": [
       "tensor([[ 0.4407, -0.4843,  0.9224, -0.1106, -0.6360, -0.6821,  0.2184,  1.1475,\n",
       "         -0.2259, -0.0196],\n",
       "        [-0.3078, -0.4204, -1.0775, -0.7831, -0.6350, -0.3287, -0.4010,  0.4889,\n",
       "         -2.0756,  1.4061],\n",
       "        [ 1.1139,  0.1989, -0.4361, -1.0456, -1.4605,  0.1574, -0.1377, -1.0093,\n",
       "         -0.0158, -1.7044]], grad_fn=<EmbeddingBackward0>)"
      ]
     },
     "execution_count": 44,
     "metadata": {},
     "output_type": "execute_result"
    }
   ],
   "source": [
    "a = nn.Embedding(10, 10)\n",
    "a(torch.arange(3))"
   ]
  },
  {
   "cell_type": "code",
   "execution_count": 45,
   "metadata": {},
   "outputs": [
    {
     "data": {
      "text/plain": [
       "array([2, 8, 1, 3, 8, 7, 8, 7, 0, 3])"
      ]
     },
     "execution_count": 45,
     "metadata": {},
     "output_type": "execute_result"
    }
   ],
   "source": [
    "np.random.randint(0, 10, 10)"
   ]
  },
  {
   "cell_type": "code",
   "execution_count": null,
   "metadata": {},
   "outputs": [],
   "source": []
  }
 ],
 "metadata": {
  "kernelspec": {
   "display_name": "DLstudy",
   "language": "python",
   "name": "study"
  },
  "language_info": {
   "codemirror_mode": {
    "name": "ipython",
    "version": 3
   },
   "file_extension": ".py",
   "mimetype": "text/x-python",
   "name": "python",
   "nbconvert_exporter": "python",
   "pygments_lexer": "ipython3",
   "version": "3.9.6"
  },
  "orig_nbformat": 4,
  "vscode": {
   "interpreter": {
    "hash": "3f09361652a1bd7bd3eb7b42332aa13b200097b92be459a98fe22956944c18f8"
   }
  }
 },
 "nbformat": 4,
 "nbformat_minor": 2
}
