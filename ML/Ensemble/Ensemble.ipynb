{
 "cells": [
  {
   "cell_type": "code",
   "execution_count": 13,
   "metadata": {},
   "outputs": [],
   "source": [
    "from sklearn.model_selection import train_test_split, cross_validate\n",
    "from sklearn.pipeline import make_pipeline\n",
    "from sklearn.datasets import load_iris, load_wine, load_breast_cancer\n",
    "from sklearn.preprocessing import StandardScaler\n",
    "\n",
    "from sklearn.ensemble import BaggingClassifier\n",
    "from sklearn.neighbors import KNeighborsClassifier\n",
    "from sklearn.svm import SVC, SVR\n",
    "from sklearn.tree import DecisionTreeClassifier"
   ]
  },
  {
   "cell_type": "code",
   "execution_count": 2,
   "metadata": {},
   "outputs": [],
   "source": [
    "from sklearn.ensemble import BaggingRegressor\n",
    "from sklearn.neighbors import KNeighborsRegressor\n",
    "from sklearn.svm import SVR\n",
    "from sklearn.tree import DecisionTreeRegressor"
   ]
  },
  {
   "cell_type": "code",
   "execution_count": 3,
   "metadata": {},
   "outputs": [],
   "source": [
    "iris = load_iris()\n",
    "wine = load_wine()\n",
    "cancer = load_breast_cancer()"
   ]
  },
  {
   "cell_type": "code",
   "execution_count": 4,
   "metadata": {},
   "outputs": [],
   "source": [
    "base_model = make_pipeline(\n",
    "  StandardScaler(),\n",
    "  KNeighborsClassifier()\n",
    ")\n",
    "\n",
    "bagging_model = BaggingClassifier(base_model, n_estimators=10, max_samples=0.5, max_features=0.5)"
   ]
  },
  {
   "cell_type": "code",
   "execution_count": 7,
   "metadata": {},
   "outputs": [
    {
     "name": "stdout",
     "output_type": "stream",
     "text": [
      "avg test score : 0.96 +/- 0.02\n"
     ]
    }
   ],
   "source": [
    "cross_val = cross_validate(\n",
    "  estimator=base_model,\n",
    "  X=iris.data, y=iris.target,\n",
    "  cv=5\n",
    ")\n",
    "\n",
    "print(f\"avg test score : {cross_val['test_score'].mean():.2f} +/- {cross_val['test_score'].std():.2f}\")"
   ]
  },
  {
   "cell_type": "code",
   "execution_count": 8,
   "metadata": {},
   "outputs": [
    {
     "name": "stdout",
     "output_type": "stream",
     "text": [
      "avg test score : 0.94 +/- 0.03\n"
     ]
    }
   ],
   "source": [
    "cross_val = cross_validate(\n",
    "  estimator=bagging_model,\n",
    "  X=iris.data, y=iris.target,\n",
    "  cv=5\n",
    ")\n",
    "\n",
    "print(f\"avg test score : {cross_val['test_score'].mean():.2f} +/- {cross_val['test_score'].std():.2f}\")"
   ]
  },
  {
   "cell_type": "code",
   "execution_count": 10,
   "metadata": {},
   "outputs": [],
   "source": [
    "from sklearn.datasets import load_diabetes\n",
    "\n",
    "diabetes = load_diabetes()\n",
    "\n",
    "base_model = make_pipeline(\n",
    "  StandardScaler(),\n",
    "  KNeighborsRegressor()\n",
    ")\n",
    "\n",
    "bagging_model = BaggingRegressor(base_model, n_estimators=10, max_samples=.5, max_features=.5)"
   ]
  },
  {
   "cell_type": "code",
   "execution_count": 11,
   "metadata": {},
   "outputs": [
    {
     "name": "stdout",
     "output_type": "stream",
     "text": [
      "avg test score : 0.37 +/- 0.04\n"
     ]
    }
   ],
   "source": [
    "cross_val = cross_validate(\n",
    "  estimator=base_model,\n",
    "  X=diabetes.data, y=diabetes.target,\n",
    "  cv=5\n",
    ")\n",
    "\n",
    "print(f\"avg test score : {cross_val['test_score'].mean():.2f} +/- {cross_val['test_score'].std():.2f}\")"
   ]
  },
  {
   "cell_type": "code",
   "execution_count": 12,
   "metadata": {},
   "outputs": [
    {
     "name": "stdout",
     "output_type": "stream",
     "text": [
      "avg test score : 0.40 +/- 0.05\n"
     ]
    }
   ],
   "source": [
    "cross_val = cross_validate(\n",
    "  estimator=bagging_model,\n",
    "  X=diabetes.data, y=diabetes.target,\n",
    "  cv=5\n",
    ")\n",
    "\n",
    "print(f\"avg test score : {cross_val['test_score'].mean():.2f} +/- {cross_val['test_score'].std():.2f}\")"
   ]
  },
  {
   "cell_type": "code",
   "execution_count": 14,
   "metadata": {},
   "outputs": [],
   "source": [
    "base_model = make_pipeline(\n",
    "  StandardScaler(),\n",
    "  SVR()\n",
    ")\n",
    "\n",
    "bagging_model = BaggingRegressor(base_model, n_estimators=10, max_samples=.5, max_features=.5)"
   ]
  },
  {
   "cell_type": "code",
   "execution_count": 15,
   "metadata": {},
   "outputs": [
    {
     "name": "stdout",
     "output_type": "stream",
     "text": [
      "avg test score : 0.15 +/- 0.02\n"
     ]
    }
   ],
   "source": [
    "cross_val = cross_validate(\n",
    "  estimator=base_model,\n",
    "  X=diabetes.data, y=diabetes.target,\n",
    "  cv=5\n",
    ")\n",
    "\n",
    "print(f\"avg test score : {cross_val['test_score'].mean():.2f} +/- {cross_val['test_score'].std():.2f}\")"
   ]
  },
  {
   "cell_type": "code",
   "execution_count": 16,
   "metadata": {},
   "outputs": [
    {
     "name": "stdout",
     "output_type": "stream",
     "text": [
      "avg test score : 0.06 +/- 0.03\n"
     ]
    }
   ],
   "source": [
    "cross_val = cross_validate(\n",
    "  estimator=bagging_model,\n",
    "  X=diabetes.data, y=diabetes.target,\n",
    "  cv=5\n",
    ")\n",
    "\n",
    "print(f\"avg test score : {cross_val['test_score'].mean():.2f} +/- {cross_val['test_score'].std():.2f}\")"
   ]
  },
  {
   "cell_type": "code",
   "execution_count": 17,
   "metadata": {},
   "outputs": [],
   "source": [
    "base_model = make_pipeline(\n",
    "  StandardScaler(),\n",
    "  DecisionTreeRegressor()\n",
    ")\n",
    "\n",
    "bagging_model = BaggingRegressor(base_model, n_estimators=10, max_samples=.5, max_features=.5)"
   ]
  },
  {
   "cell_type": "code",
   "execution_count": 18,
   "metadata": {},
   "outputs": [
    {
     "name": "stdout",
     "output_type": "stream",
     "text": [
      "avg test score : -0.17 +/- 0.12\n"
     ]
    }
   ],
   "source": [
    "cross_val = cross_validate(\n",
    "  estimator=base_model,\n",
    "  X=diabetes.data, y=diabetes.target,\n",
    "  cv=5\n",
    ")\n",
    "\n",
    "print(f\"avg test score : {cross_val['test_score'].mean():.2f} +/- {cross_val['test_score'].std():.2f}\")"
   ]
  },
  {
   "cell_type": "code",
   "execution_count": 19,
   "metadata": {},
   "outputs": [
    {
     "name": "stdout",
     "output_type": "stream",
     "text": [
      "avg test score : 0.36 +/- 0.10\n"
     ]
    }
   ],
   "source": [
    "cross_val = cross_validate(\n",
    "  estimator=bagging_model,\n",
    "  X=diabetes.data, y=diabetes.target,\n",
    "  cv=5\n",
    ")\n",
    "\n",
    "print(f\"avg test score : {cross_val['test_score'].mean():.2f} +/- {cross_val['test_score'].std():.2f}\")"
   ]
  },
  {
   "cell_type": "markdown",
   "metadata": {},
   "source": [
    "bagging은 DecisionTree랑 잘 맞음"
   ]
  },
  {
   "cell_type": "markdown",
   "metadata": {},
   "source": [
    "### Random Forest"
   ]
  },
  {
   "cell_type": "code",
   "execution_count": 21,
   "metadata": {},
   "outputs": [],
   "source": [
    "from sklearn.ensemble import RandomForestClassifier, ExtraTreesClassifier\n",
    "from sklearn.ensemble import RandomForestRegressor, ExtraTreesRegressor"
   ]
  },
  {
   "cell_type": "code",
   "execution_count": 22,
   "metadata": {},
   "outputs": [
    {
     "name": "stdout",
     "output_type": "stream",
     "text": [
      "avg test score : 0.97 +/- 0.02\n"
     ]
    }
   ],
   "source": [
    "model = make_pipeline(\n",
    "  StandardScaler(),\n",
    "  RandomForestClassifier()\n",
    ")\n",
    "\n",
    "cross_val = cross_validate(\n",
    "  estimator=model,\n",
    "  X=iris.data, y=iris.target,\n",
    "  cv=5\n",
    ")\n",
    "\n",
    "print(f\"avg test score : {cross_val['test_score'].mean():.2f} +/- {cross_val['test_score'].std():.2f}\")\n"
   ]
  },
  {
   "cell_type": "code",
   "execution_count": 24,
   "metadata": {},
   "outputs": [
    {
     "name": "stdout",
     "output_type": "stream",
     "text": [
      "avg test score : 0.98 +/- 0.02\n"
     ]
    }
   ],
   "source": [
    "cross_val = cross_validate(\n",
    "  estimator=model,\n",
    "  X=wine.data, y=wine.target,\n",
    "  cv=5\n",
    ")\n",
    "\n",
    "print(f\"avg test score : {cross_val['test_score'].mean():.2f} +/- {cross_val['test_score'].std():.2f}\")\n"
   ]
  },
  {
   "cell_type": "code",
   "execution_count": 26,
   "metadata": {},
   "outputs": [
    {
     "name": "stdout",
     "output_type": "stream",
     "text": [
      "avg test score : 0.96 +/- 0.02\n"
     ]
    }
   ],
   "source": [
    "cross_val = cross_validate(\n",
    "  estimator=model,\n",
    "  X=cancer.data, y=cancer.target,\n",
    "  cv=5\n",
    ")\n",
    "\n",
    "print(f\"avg test score : {cross_val['test_score'].mean():.2f} +/- {cross_val['test_score'].std():.2f}\")"
   ]
  },
  {
   "cell_type": "code",
   "execution_count": 27,
   "metadata": {},
   "outputs": [],
   "source": [
    "model = make_pipeline(\n",
    "  StandardScaler(),\n",
    "  RandomForestRegressor()\n",
    ")"
   ]
  },
  {
   "cell_type": "code",
   "execution_count": 28,
   "metadata": {},
   "outputs": [
    {
     "name": "stdout",
     "output_type": "stream",
     "text": [
      "avg test score : 0.43 +/- 0.05\n"
     ]
    }
   ],
   "source": [
    "cross_val = cross_validate(\n",
    "  estimator=model,\n",
    "  X=diabetes.data, y=diabetes.target,\n",
    "  cv=5\n",
    ")\n",
    "\n",
    "print(f\"avg test score : {cross_val['test_score'].mean():.2f} +/- {cross_val['test_score'].std():.2f}\")"
   ]
  },
  {
   "cell_type": "code",
   "execution_count": 29,
   "metadata": {},
   "outputs": [],
   "source": [
    "model = make_pipeline(\n",
    "  StandardScaler(),\n",
    "  ExtraTreesClassifier()\n",
    ")"
   ]
  },
  {
   "cell_type": "code",
   "execution_count": 30,
   "metadata": {},
   "outputs": [
    {
     "name": "stdout",
     "output_type": "stream",
     "text": [
      "avg test score : 0.99 +/- 0.01\n"
     ]
    }
   ],
   "source": [
    "cross_val = cross_validate(\n",
    "  estimator=model,\n",
    "  X=wine.data, y=wine.target,\n",
    "  cv=5\n",
    ")\n",
    "\n",
    "print(f\"avg test score : {cross_val['test_score'].mean():.2f} +/- {cross_val['test_score'].std():.2f}\")"
   ]
  },
  {
   "cell_type": "code",
   "execution_count": 32,
   "metadata": {},
   "outputs": [
    {
     "name": "stdout",
     "output_type": "stream",
     "text": [
      "avg test score : 0.97 +/- 0.02\n"
     ]
    }
   ],
   "source": [
    "cross_val = cross_validate(\n",
    "  estimator=model,\n",
    "  X=cancer.data, y=cancer.target,\n",
    "  cv=5\n",
    ")\n",
    "\n",
    "print(f\"avg test score : {cross_val['test_score'].mean():.2f} +/- {cross_val['test_score'].std():.2f}\")"
   ]
  },
  {
   "cell_type": "code",
   "execution_count": 33,
   "metadata": {},
   "outputs": [],
   "source": [
    "model = make_pipeline(\n",
    "  StandardScaler(),\n",
    "  ExtraTreesRegressor()\n",
    ")"
   ]
  },
  {
   "cell_type": "code",
   "execution_count": 34,
   "metadata": {},
   "outputs": [
    {
     "name": "stdout",
     "output_type": "stream",
     "text": [
      "avg test score : 0.45 +/- 0.03\n"
     ]
    }
   ],
   "source": [
    "cross_val = cross_validate(\n",
    "  estimator=model,\n",
    "  X=diabetes.data, y=diabetes.target,\n",
    "  cv=5\n",
    ")\n",
    "\n",
    "print(f\"avg test score : {cross_val['test_score'].mean():.2f} +/- {cross_val['test_score'].std():.2f}\")"
   ]
  },
  {
   "cell_type": "markdown",
   "metadata": {},
   "source": [
    "### AdaBoost"
   ]
  },
  {
   "cell_type": "code",
   "execution_count": 35,
   "metadata": {},
   "outputs": [],
   "source": [
    "from sklearn.ensemble import AdaBoostClassifier, AdaBoostRegressor"
   ]
  },
  {
   "cell_type": "code",
   "execution_count": 36,
   "metadata": {},
   "outputs": [
    {
     "name": "stdout",
     "output_type": "stream",
     "text": [
      "avg test score : 0.95 +/- 0.03\n"
     ]
    }
   ],
   "source": [
    "model = make_pipeline(\n",
    "  StandardScaler(),\n",
    "  AdaBoostClassifier()\n",
    ")\n",
    "\n",
    "cross_val = cross_validate(\n",
    "  estimator=model,\n",
    "  X=iris.data, y=iris.target,\n",
    "  cv=5\n",
    ")\n",
    "\n",
    "print(f\"avg test score : {cross_val['test_score'].mean():.2f} +/- {cross_val['test_score'].std():.2f}\")"
   ]
  },
  {
   "cell_type": "code",
   "execution_count": 37,
   "metadata": {},
   "outputs": [
    {
     "name": "stdout",
     "output_type": "stream",
     "text": [
      "avg test score : 0.39 +/- 0.04\n"
     ]
    }
   ],
   "source": [
    "model = make_pipeline(\n",
    "  StandardScaler(),\n",
    "  AdaBoostRegressor()\n",
    ")\n",
    "\n",
    "cross_val = cross_validate(\n",
    "  estimator=model,\n",
    "  X=diabetes.data, y=diabetes.target,\n",
    "  cv=5\n",
    ")\n",
    "\n",
    "print(f\"avg test score : {cross_val['test_score'].mean():.2f} +/- {cross_val['test_score'].std():.2f}\")"
   ]
  },
  {
   "cell_type": "markdown",
   "metadata": {},
   "source": [
    "### Gradient Tree Boosting"
   ]
  },
  {
   "cell_type": "code",
   "execution_count": null,
   "metadata": {},
   "outputs": [],
   "source": [
    "from sklearn.ensemble import GradientBoostingClassifier, GradientBoostingRegressor"
   ]
  },
  {
   "cell_type": "markdown",
   "metadata": {},
   "source": [
    "### Voting Classifier\n",
    "- hard voting(가장 많이 예측된 클래스를 정답으로 채택)\n",
    "- soft voting(예측된 확률의 가중치 평균)"
   ]
  },
  {
   "cell_type": "code",
   "execution_count": 39,
   "metadata": {},
   "outputs": [],
   "source": [
    "from sklearn.naive_bayes import GaussianNB\n",
    "from sklearn.ensemble import VotingClassifier, VotingRegressor\n",
    "from sklearn.model_selection import cross_val_score"
   ]
  },
  {
   "cell_type": "code",
   "execution_count": 41,
   "metadata": {},
   "outputs": [],
   "source": [
    "model1 = SVC()\n",
    "model2 = GaussianNB()\n",
    "model3 = RandomForestClassifier()\n",
    "vote_model = VotingClassifier(\n",
    "  estimators=[('svc', model1), ('navie', model2), ('forest', model3)],\n",
    "  voting='hard'\n",
    ")"
   ]
  },
  {
   "cell_type": "code",
   "execution_count": 43,
   "metadata": {},
   "outputs": [
    {
     "name": "stdout",
     "output_type": "stream",
     "text": [
      "0.9666666666666668\n"
     ]
    }
   ],
   "source": [
    "score = cross_val_score(\n",
    "  vote_model,\n",
    "  iris.data, iris.target,\n",
    "  cv=5\n",
    ")\n",
    "\n",
    "print(score.mean())"
   ]
  },
  {
   "cell_type": "markdown",
   "metadata": {},
   "source": [
    "#### 스택 일반화\n",
    "- 예측 모델의 결과 값을 다시 모델에 입력으로 사용"
   ]
  },
  {
   "cell_type": "code",
   "execution_count": 47,
   "metadata": {},
   "outputs": [],
   "source": [
    "from sklearn.linear_model import Ridge, Lasso\n",
    "from sklearn.ensemble import StackingClassifier, StackingRegressor, GradientBoostingClassifier, GradientBoostingRegressor"
   ]
  },
  {
   "cell_type": "code",
   "execution_count": 48,
   "metadata": {},
   "outputs": [],
   "source": [
    "estimators = [('ridge', Ridge()), ('lasso', Lasso()), ('svr', SVR())]\n",
    "\n",
    "reg = make_pipeline(\n",
    "  StandardScaler(),\n",
    "  StackingRegressor(\n",
    "    estimators=estimators,\n",
    "    final_estimator=GradientBoostingRegressor()\n",
    "  )\n",
    ")"
   ]
  },
  {
   "cell_type": "code",
   "execution_count": 49,
   "metadata": {},
   "outputs": [
    {
     "name": "stdout",
     "output_type": "stream",
     "text": [
      "0.37187218379812004\n"
     ]
    }
   ],
   "source": [
    "score = cross_val_score(\n",
    "  reg,\n",
    "  diabetes.data, diabetes.target,\n",
    "  cv=5\n",
    ")\n",
    "\n",
    "print(score.mean())"
   ]
  }
 ],
 "metadata": {
  "kernelspec": {
   "display_name": "DLstudy",
   "language": "python",
   "name": "study"
  },
  "language_info": {
   "codemirror_mode": {
    "name": "ipython",
    "version": 3
   },
   "file_extension": ".py",
   "mimetype": "text/x-python",
   "name": "python",
   "nbconvert_exporter": "python",
   "pygments_lexer": "ipython3",
   "version": "3.9.6"
  },
  "orig_nbformat": 4,
  "vscode": {
   "interpreter": {
    "hash": "a2b7ddb681e91f50c687e0615d04b5352868a2d925578247c76cbc707796898f"
   }
  }
 },
 "nbformat": 4,
 "nbformat_minor": 2
}
