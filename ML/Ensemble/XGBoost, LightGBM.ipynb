{
 "cells": [
  {
   "cell_type": "markdown",
   "metadata": {},
   "source": [
    "### XGBoost\n",
    "- 트리 기반의 앙상블 기법\n",
    "- 분류에 있어 좋은 성능\n",
    "- GBM기반이지만 느린 수행시간과 과적합 문제 해결"
   ]
  },
  {
   "cell_type": "code",
   "execution_count": 2,
   "metadata": {},
   "outputs": [],
   "source": [
    "from sklearn.datasets import load_breast_cancer, load_iris, load_wine\n",
    "from sklearn.datasets import load_diabetes\n",
    "from sklearn.model_selection import train_test_split, cross_validate\n",
    "from sklearn.metrics import accuracy_score, precision_score, recall_score\n",
    "\n",
    "import xgboost as xgb\n",
    "from xgboost import XGBClassifier, XGBRegressor\n",
    "from xgboost import plot_importance, plot_tree\n",
    "\n",
    "import graphviz\n",
    "import matplotlib.pyplot as plt\n",
    "plt.style.use(['seaborn-whitegrid'])"
   ]
  },
  {
   "cell_type": "code",
   "execution_count": 8,
   "metadata": {},
   "outputs": [],
   "source": [
    "cancer = load_breast_cancer()\n",
    "x_train, x_test, y_train, y_test = train_test_split(cancer.data, cancer.target, test_size=0.2, random_state=123)\n",
    "dtrain = xgb.DMatrix(data=x_train, label=y_train)\n",
    "dtest = xgb.DMatrix(data=x_test, label=y_test)"
   ]
  },
  {
   "cell_type": "code",
   "execution_count": 9,
   "metadata": {},
   "outputs": [],
   "source": [
    "params = {\n",
    "  'max_depth': 3,\n",
    "  'eta': 0.1,\n",
    "  'objective': 'binary:logistic',\n",
    "  'eval_metric': 'logloss',\n",
    "}\n",
    "num_round = 400"
   ]
  },
  {
   "cell_type": "code",
   "execution_count": 10,
   "metadata": {},
   "outputs": [
    {
     "name": "stdout",
     "output_type": "stream",
     "text": [
      "[0]\ttrain-logloss:0.60944\teval-logloss:0.61010\n",
      "[1]\ttrain-logloss:0.54047\teval-logloss:0.54074\n",
      "[2]\ttrain-logloss:0.48211\teval-logloss:0.48490\n",
      "[3]\ttrain-logloss:0.43365\teval-logloss:0.43922\n",
      "[4]\ttrain-logloss:0.39072\teval-logloss:0.39791\n",
      "[5]\ttrain-logloss:0.35372\teval-logloss:0.36211\n",
      "[6]\ttrain-logloss:0.32223\teval-logloss:0.32996\n",
      "[7]\ttrain-logloss:0.29292\teval-logloss:0.30179\n",
      "[8]\ttrain-logloss:0.26731\teval-logloss:0.27801\n",
      "[9]\ttrain-logloss:0.24409\teval-logloss:0.25775\n",
      "[10]\ttrain-logloss:0.22517\teval-logloss:0.24037\n",
      "[11]\ttrain-logloss:0.20807\teval-logloss:0.22271\n",
      "[12]\ttrain-logloss:0.19177\teval-logloss:0.20795\n",
      "[13]\ttrain-logloss:0.17746\teval-logloss:0.19531\n",
      "[14]\ttrain-logloss:0.16408\teval-logloss:0.18460\n",
      "[15]\ttrain-logloss:0.15250\teval-logloss:0.17183\n",
      "[16]\ttrain-logloss:0.14198\teval-logloss:0.16152\n",
      "[17]\ttrain-logloss:0.13270\teval-logloss:0.15443\n",
      "[18]\ttrain-logloss:0.12326\teval-logloss:0.14913\n",
      "[19]\ttrain-logloss:0.11591\teval-logloss:0.14175\n",
      "[20]\ttrain-logloss:0.10884\teval-logloss:0.13378\n",
      "[21]\ttrain-logloss:0.10239\teval-logloss:0.12809\n",
      "[22]\ttrain-logloss:0.09642\teval-logloss:0.12310\n",
      "[23]\ttrain-logloss:0.09119\teval-logloss:0.11735\n",
      "[24]\ttrain-logloss:0.08610\teval-logloss:0.11254\n",
      "[25]\ttrain-logloss:0.08099\teval-logloss:0.11103\n",
      "[26]\ttrain-logloss:0.07652\teval-logloss:0.10784\n",
      "[27]\ttrain-logloss:0.07218\teval-logloss:0.10638\n",
      "[28]\ttrain-logloss:0.06852\teval-logloss:0.10329\n",
      "[29]\ttrain-logloss:0.06528\teval-logloss:0.10023\n",
      "[30]\ttrain-logloss:0.06210\teval-logloss:0.09733\n",
      "[31]\ttrain-logloss:0.05907\teval-logloss:0.09495\n",
      "[32]\ttrain-logloss:0.05643\teval-logloss:0.09249\n",
      "[33]\ttrain-logloss:0.05376\teval-logloss:0.09052\n",
      "[34]\ttrain-logloss:0.05139\teval-logloss:0.08892\n",
      "[35]\ttrain-logloss:0.04934\teval-logloss:0.08715\n",
      "[36]\ttrain-logloss:0.04722\teval-logloss:0.08597\n",
      "[37]\ttrain-logloss:0.04532\teval-logloss:0.08400\n",
      "[38]\ttrain-logloss:0.04353\teval-logloss:0.08311\n",
      "[39]\ttrain-logloss:0.04177\teval-logloss:0.08118\n",
      "[40]\ttrain-logloss:0.04024\teval-logloss:0.07966\n",
      "[41]\ttrain-logloss:0.03880\teval-logloss:0.07900\n",
      "[42]\ttrain-logloss:0.03753\teval-logloss:0.07876\n",
      "[43]\ttrain-logloss:0.03627\teval-logloss:0.07849\n",
      "[44]\ttrain-logloss:0.03508\teval-logloss:0.07727\n",
      "[45]\ttrain-logloss:0.03395\teval-logloss:0.07715\n",
      "[46]\ttrain-logloss:0.03276\teval-logloss:0.07628\n",
      "[47]\ttrain-logloss:0.03177\teval-logloss:0.07591\n",
      "[48]\ttrain-logloss:0.03083\teval-logloss:0.07610\n",
      "[49]\ttrain-logloss:0.02967\teval-logloss:0.07658\n",
      "[50]\ttrain-logloss:0.02871\teval-logloss:0.07621\n",
      "[51]\ttrain-logloss:0.02780\teval-logloss:0.07556\n",
      "[52]\ttrain-logloss:0.02694\teval-logloss:0.07539\n",
      "[53]\ttrain-logloss:0.02621\teval-logloss:0.07570\n",
      "[54]\ttrain-logloss:0.02551\teval-logloss:0.07568\n",
      "[55]\ttrain-logloss:0.02483\teval-logloss:0.07537\n",
      "[56]\ttrain-logloss:0.02424\teval-logloss:0.07557\n",
      "[57]\ttrain-logloss:0.02370\teval-logloss:0.07528\n",
      "[58]\ttrain-logloss:0.02305\teval-logloss:0.07551\n",
      "[59]\ttrain-logloss:0.02243\teval-logloss:0.07561\n",
      "[60]\ttrain-logloss:0.02186\teval-logloss:0.07556\n",
      "[61]\ttrain-logloss:0.02135\teval-logloss:0.07534\n",
      "[62]\ttrain-logloss:0.02087\teval-logloss:0.07603\n",
      "[63]\ttrain-logloss:0.02036\teval-logloss:0.07596\n",
      "[64]\ttrain-logloss:0.01988\teval-logloss:0.07646\n",
      "[65]\ttrain-logloss:0.01948\teval-logloss:0.07728\n",
      "[66]\ttrain-logloss:0.01905\teval-logloss:0.07730\n",
      "[67]\ttrain-logloss:0.01865\teval-logloss:0.07799\n",
      "[68]\ttrain-logloss:0.01826\teval-logloss:0.07806\n",
      "[69]\ttrain-logloss:0.01783\teval-logloss:0.07898\n",
      "[70]\ttrain-logloss:0.01752\teval-logloss:0.07841\n",
      "[71]\ttrain-logloss:0.01715\teval-logloss:0.07899\n",
      "[72]\ttrain-logloss:0.01678\teval-logloss:0.07991\n",
      "[73]\ttrain-logloss:0.01651\teval-logloss:0.08006\n",
      "[74]\ttrain-logloss:0.01615\teval-logloss:0.08071\n",
      "[75]\ttrain-logloss:0.01591\teval-logloss:0.08131\n",
      "[76]\ttrain-logloss:0.01563\teval-logloss:0.08158\n",
      "[77]\ttrain-logloss:0.01537\teval-logloss:0.08168\n",
      "[78]\ttrain-logloss:0.01509\teval-logloss:0.08221\n",
      "[79]\ttrain-logloss:0.01477\teval-logloss:0.08290\n",
      "[80]\ttrain-logloss:0.01453\teval-logloss:0.08235\n",
      "[81]\ttrain-logloss:0.01433\teval-logloss:0.08221\n",
      "[82]\ttrain-logloss:0.01413\teval-logloss:0.08198\n",
      "[83]\ttrain-logloss:0.01395\teval-logloss:0.08253\n",
      "[84]\ttrain-logloss:0.01374\teval-logloss:0.08292\n",
      "[85]\ttrain-logloss:0.01350\teval-logloss:0.08297\n",
      "[86]\ttrain-logloss:0.01329\teval-logloss:0.08268\n",
      "[87]\ttrain-logloss:0.01312\teval-logloss:0.08328\n",
      "[88]\ttrain-logloss:0.01295\teval-logloss:0.08334\n",
      "[89]\ttrain-logloss:0.01281\teval-logloss:0.08388\n",
      "[90]\ttrain-logloss:0.01263\teval-logloss:0.08419\n",
      "[91]\ttrain-logloss:0.01246\teval-logloss:0.08369\n",
      "[92]\ttrain-logloss:0.01224\teval-logloss:0.08380\n",
      "[93]\ttrain-logloss:0.01210\teval-logloss:0.08438\n",
      "[94]\ttrain-logloss:0.01196\teval-logloss:0.08443\n",
      "[95]\ttrain-logloss:0.01185\teval-logloss:0.08495\n",
      "[96]\ttrain-logloss:0.01169\teval-logloss:0.08533\n",
      "[97]\ttrain-logloss:0.01150\teval-logloss:0.08500\n",
      "[98]\ttrain-logloss:0.01137\teval-logloss:0.08553\n",
      "[99]\ttrain-logloss:0.01124\teval-logloss:0.08616\n",
      "[100]\ttrain-logloss:0.01114\teval-logloss:0.08635\n",
      "[101]\ttrain-logloss:0.01104\teval-logloss:0.08623\n",
      "[102]\ttrain-logloss:0.01094\teval-logloss:0.08689\n",
      "[103]\ttrain-logloss:0.01078\teval-logloss:0.08685\n",
      "[104]\ttrain-logloss:0.01069\teval-logloss:0.08633\n",
      "[105]\ttrain-logloss:0.01060\teval-logloss:0.08679\n",
      "[106]\ttrain-logloss:0.01051\teval-logloss:0.08744\n",
      "[107]\ttrain-logloss:0.01043\teval-logloss:0.08695\n",
      "[108]\ttrain-logloss:0.01034\teval-logloss:0.08737\n",
      "[109]\ttrain-logloss:0.01023\teval-logloss:0.08796\n",
      "[110]\ttrain-logloss:0.01015\teval-logloss:0.08771\n",
      "[111]\ttrain-logloss:0.01007\teval-logloss:0.08834\n",
      "[112]\ttrain-logloss:0.00995\teval-logloss:0.08863\n",
      "[113]\ttrain-logloss:0.00988\teval-logloss:0.08878\n",
      "[114]\ttrain-logloss:0.00980\teval-logloss:0.08831\n",
      "[115]\ttrain-logloss:0.00973\teval-logloss:0.08874\n",
      "[116]\ttrain-logloss:0.00965\teval-logloss:0.08864\n",
      "[117]\ttrain-logloss:0.00953\teval-logloss:0.08868\n",
      "[118]\ttrain-logloss:0.00945\teval-logloss:0.08930\n",
      "[119]\ttrain-logloss:0.00935\teval-logloss:0.08957\n",
      "[120]\ttrain-logloss:0.00932\teval-logloss:0.08968\n",
      "[121]\ttrain-logloss:0.00925\teval-logloss:0.08924\n",
      "[122]\ttrain-logloss:0.00918\teval-logloss:0.08966\n",
      "[123]\ttrain-logloss:0.00910\teval-logloss:0.09023\n",
      "[124]\ttrain-logloss:0.00903\teval-logloss:0.09082\n",
      "[125]\ttrain-logloss:0.00896\teval-logloss:0.09072\n",
      "[126]\ttrain-logloss:0.00893\teval-logloss:0.09082\n",
      "[127]\ttrain-logloss:0.00882\teval-logloss:0.09091\n",
      "[128]\ttrain-logloss:0.00876\teval-logloss:0.09052\n",
      "[129]\ttrain-logloss:0.00870\teval-logloss:0.09110\n",
      "[130]\ttrain-logloss:0.00865\teval-logloss:0.09069\n",
      "[131]\ttrain-logloss:0.00855\teval-logloss:0.09077\n",
      "[132]\ttrain-logloss:0.00850\teval-logloss:0.09134\n",
      "[133]\ttrain-logloss:0.00844\teval-logloss:0.09097\n",
      "[134]\ttrain-logloss:0.00836\teval-logloss:0.09124\n",
      "[135]\ttrain-logloss:0.00833\teval-logloss:0.09133\n",
      "[136]\ttrain-logloss:0.00827\teval-logloss:0.09125\n",
      "[137]\ttrain-logloss:0.00824\teval-logloss:0.09153\n",
      "[138]\ttrain-logloss:0.00819\teval-logloss:0.09176\n",
      "[139]\ttrain-logloss:0.00814\teval-logloss:0.09140\n",
      "[140]\ttrain-logloss:0.00811\teval-logloss:0.09168\n",
      "[141]\ttrain-logloss:0.00807\teval-logloss:0.09224\n",
      "[142]\ttrain-logloss:0.00801\teval-logloss:0.09277\n",
      "[143]\ttrain-logloss:0.00796\teval-logloss:0.09329\n",
      "[144]\ttrain-logloss:0.00793\teval-logloss:0.09322\n",
      "[145]\ttrain-logloss:0.00788\teval-logloss:0.09314\n",
      "[146]\ttrain-logloss:0.00784\teval-logloss:0.09336\n",
      "[147]\ttrain-logloss:0.00781\teval-logloss:0.09363\n",
      "[148]\ttrain-logloss:0.00778\teval-logloss:0.09328\n",
      "[149]\ttrain-logloss:0.00773\teval-logloss:0.09381\n",
      "[150]\ttrain-logloss:0.00771\teval-logloss:0.09407\n",
      "[151]\ttrain-logloss:0.00769\teval-logloss:0.09417\n",
      "[152]\ttrain-logloss:0.00763\teval-logloss:0.09438\n",
      "[153]\ttrain-logloss:0.00758\teval-logloss:0.09489\n",
      "[154]\ttrain-logloss:0.00755\teval-logloss:0.09527\n",
      "[155]\ttrain-logloss:0.00753\teval-logloss:0.09520\n",
      "[156]\ttrain-logloss:0.00751\teval-logloss:0.09506\n",
      "[157]\ttrain-logloss:0.00748\teval-logloss:0.09475\n"
     ]
    }
   ],
   "source": [
    "evals = [(dtrain, 'train'), (dtest, 'eval')]\n",
    "\n",
    "xgb_model = xgb.train(\n",
    "  params=params, \n",
    "  dtrain=dtrain, \n",
    "  num_boost_round=num_round, \n",
    "  early_stopping_rounds=100,\n",
    "  evals=evals\n",
    ")"
   ]
  },
  {
   "cell_type": "code",
   "execution_count": 11,
   "metadata": {},
   "outputs": [
    {
     "name": "stdout",
     "output_type": "stream",
     "text": [
      "[9.9955374e-01 9.9917752e-01 8.6196855e-04 9.9485481e-01 5.4615230e-04\n",
      " 9.8911756e-01 9.9485010e-01 9.9818277e-01 9.6617907e-01 7.9452908e-01]\n"
     ]
    }
   ],
   "source": [
    "pred = xgb_model.predict(dtest)\n",
    "print(pred[:10])"
   ]
  },
  {
   "cell_type": "code",
   "execution_count": 12,
   "metadata": {},
   "outputs": [
    {
     "name": "stdout",
     "output_type": "stream",
     "text": [
      "acc : 0.9736842105263158\n",
      "precision : 0.972972972972973\n",
      "recall : 0.9863013698630136\n"
     ]
    }
   ],
   "source": [
    "pred = [1 if x > 0.5 else 0 for x in pred]\n",
    "print(f'acc : {accuracy_score(y_test, pred)}')\n",
    "print(f'precision : {precision_score(y_test, pred)}')\n",
    "print(f'recall : {recall_score(y_test, pred)}')"
   ]
  },
  {
   "cell_type": "code",
   "execution_count": 13,
   "metadata": {},
   "outputs": [
    {
     "data": {
      "text/plain": [
       "<AxesSubplot:title={'center':'Feature importance'}, xlabel='F score', ylabel='Features'>"
      ]
     },
     "execution_count": 13,
     "metadata": {},
     "output_type": "execute_result"
    },
    {
     "data": {
      "image/png": "[encoded data removed]",
      "text/plain": [
       "<Figure size 720x864 with 1 Axes>"
      ]
     },
     "metadata": {
      "needs_background": "light"
     },
     "output_type": "display_data"
    }
   ],
   "source": [
    "fig, ax = plt.subplots(figsize=(10, 12))\n",
    "plot_importance(xgb_model, ax=ax)"
   ]
  },
  {
   "cell_type": "markdown",
   "metadata": {},
   "source": [
    "### XGBClassifier"
   ]
  },
  {
   "cell_type": "code",
   "execution_count": 14,
   "metadata": {},
   "outputs": [],
   "source": [
    "iris = load_iris()\n",
    "x_train, x_test, y_train, y_test = train_test_split(cancer.data, cancer.target, test_size=0.2, random_state=123)"
   ]
  },
  {
   "cell_type": "code",
   "execution_count": 15,
   "metadata": {},
   "outputs": [],
   "source": [
    "xgbc = XGBClassifier(\n",
    "  n_estimators=400,\n",
    "  learning_rate=0.1,\n",
    "  max_depth=3\n",
    ")\n",
    "xgbc.fit(x_train, y_train)\n",
    "pred = xgbc.predict(x_test)\n",
    "pred_proba = xgbc.predict_proba(x_test)[:, 1]"
   ]
  },
  {
   "cell_type": "code",
   "execution_count": 16,
   "metadata": {},
   "outputs": [
    {
     "name": "stdout",
     "output_type": "stream",
     "text": [
      "[10:52:48] WARNING: C:/Users/Administrator/workspace/xgboost-win64_release_1.6.0/src/learner.cc:627: \n",
      "Parameters: { \"scale_pos_weight\" } might not be used.\n",
      "\n",
      "  This could be a false alarm, with some parameters getting used by language bindings but\n",
      "  then being mistakenly passed down to XGBoost core, or some parameter actually being used\n",
      "  but getting flagged wrongly here. Please open an issue if you find any such cases.\n",
      "\n",
      "\n",
      "[10:52:48] WARNING: C:/Users/Administrator/workspace/xgboost-win64_release_1.6.0/src/learner.cc:627: \n",
      "Parameters: { \"scale_pos_weight\" } might not be used.\n",
      "\n",
      "  This could be a false alarm, with some parameters getting used by language bindings but\n",
      "  then being mistakenly passed down to XGBoost core, or some parameter actually being used\n",
      "  but getting flagged wrongly here. Please open an issue if you find any such cases.\n",
      "\n",
      "\n",
      "[10:52:48] WARNING: C:/Users/Administrator/workspace/xgboost-win64_release_1.6.0/src/learner.cc:627: \n",
      "Parameters: { \"scale_pos_weight\" } might not be used.\n",
      "\n",
      "  This could be a false alarm, with some parameters getting used by language bindings but\n",
      "  then being mistakenly passed down to XGBoost core, or some parameter actually being used\n",
      "  but getting flagged wrongly here. Please open an issue if you find any such cases.\n",
      "\n",
      "\n",
      "[10:52:49] WARNING: C:/Users/Administrator/workspace/xgboost-win64_release_1.6.0/src/learner.cc:627: \n",
      "Parameters: { \"scale_pos_weight\" } might not be used.\n",
      "\n",
      "  This could be a false alarm, with some parameters getting used by language bindings but\n",
      "  then being mistakenly passed down to XGBoost core, or some parameter actually being used\n",
      "  but getting flagged wrongly here. Please open an issue if you find any such cases.\n",
      "\n",
      "\n",
      "[10:52:49] WARNING: C:/Users/Administrator/workspace/xgboost-win64_release_1.6.0/src/learner.cc:627: \n",
      "Parameters: { \"scale_pos_weight\" } might not be used.\n",
      "\n",
      "  This could be a false alarm, with some parameters getting used by language bindings but\n",
      "  then being mistakenly passed down to XGBoost core, or some parameter actually being used\n",
      "  but getting flagged wrongly here. Please open an issue if you find any such cases.\n",
      "\n",
      "\n",
      "avg fit time : 0.16959929466247559\n",
      "avg score time : 0.0019996166229248047\n",
      "avg test score : 0.96\n"
     ]
    }
   ],
   "source": [
    "cross_val = cross_validate(\n",
    "  estimator=xgbc,\n",
    "  X=iris.data, y=iris.target,\n",
    "  cv=5\n",
    ")\n",
    "\n",
    "print(f\"avg fit time : {cross_val['fit_time'].mean()}\")\n",
    "print(f\"avg score time : {cross_val['score_time'].mean()}\")\n",
    "print(f\"avg test score : {cross_val['test_score'].mean()}\")\n"
   ]
  }
 ],
 "metadata": {
  "kernelspec": {
   "display_name": "DLstudy",
   "language": "python",
   "name": "study"
  },
  "language_info": {
   "codemirror_mode": {
    "name": "ipython",
    "version": 3
   },
   "file_extension": ".py",
   "mimetype": "text/x-python",
   "name": "python",
   "nbconvert_exporter": "python",
   "pygments_lexer": "ipython3",
   "version": "3.9.6"
  },
  "orig_nbformat": 4,
  "vscode": {
   "interpreter": {
    "hash": "3f09361652a1bd7bd3eb7b42332aa13b200097b92be459a98fe22956944c18f8"
   }
  }
 },
 "nbformat": 4,
 "nbformat_minor": 2
}
